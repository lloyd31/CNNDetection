{
  "nbformat": 4,
  "nbformat_minor": 0,
  "metadata": {
    "colab": {
      "name": "CNNBasedDetector.ipynb",
      "provenance": [],
      "collapsed_sections": [],
      "authorship_tag": "ABX9TyM9pTJkW8Gw1gShniXaBqJk",
      "include_colab_link": true
    },
    "kernelspec": {
      "name": "python3",
      "display_name": "Python 3"
    },
    "language_info": {
      "name": "python"
    },
    "accelerator": "GPU"
  },
  "cells": [
    {
      "cell_type": "markdown",
      "metadata": {
        "id": "view-in-github",
        "colab_type": "text"
      },
      "source": [
        "<a href=\"https://colab.research.google.com/github/lloyd31/CNNDetection/blob/master/CNNBasedDetector.ipynb\" target=\"_parent\"><img src=\"https://colab.research.google.com/assets/colab-badge.svg\" alt=\"Open In Colab\"/></a>"
      ]
    },
    {
      "cell_type": "code",
      "execution_count": 42,
      "metadata": {
        "colab": {
          "base_uri": "https://localhost:8080/"
        },
        "id": "wFII8BwR7Y_-",
        "outputId": "2b579ea7-077e-4bbf-b2b9-1dbfd4c1f81a"
      },
      "outputs": [
        {
          "output_type": "stream",
          "name": "stdout",
          "text": [
            "Cloning into 'CNNDetection'...\n",
            "remote: Enumerating objects: 664, done.\u001b[K\n",
            "remote: Counting objects: 100% (38/38), done.\u001b[K\n",
            "remote: Compressing objects: 100% (29/29), done.\u001b[K\n",
            "remote: Total 664 (delta 17), reused 23 (delta 9), pack-reused 626\u001b[K\n",
            "Receiving objects: 100% (664/664), 6.38 MiB | 3.07 MiB/s, done.\n",
            "Resolving deltas: 100% (111/111), done.\n"
          ]
        }
      ],
      "source": [
        "##Clone the CNN repo\n",
        "!git clone https://github.com/lloyd31/CNNDetection.git"
      ]
    },
    {
      "cell_type": "code",
      "source": [
        "%cd /content/CNNDetection\n",
        "%pip install -r requirements.txt\n",
        "!bash weights/download_weights.sh\n",
        "%cd /content"
      ],
      "metadata": {
        "colab": {
          "base_uri": "https://localhost:8080/"
        },
        "id": "hIuk0Dka9tqQ",
        "outputId": "434bbc7a-54df-490c-a824-1fdb153c3632"
      },
      "execution_count": 43,
      "outputs": [
        {
          "output_type": "stream",
          "name": "stdout",
          "text": [
            "/content/CNNDetection\n",
            "Requirement already satisfied: scipy in /usr/local/lib/python3.7/dist-packages (from -r requirements.txt (line 1)) (1.4.1)\n",
            "Requirement already satisfied: scikit-learn in /usr/local/lib/python3.7/dist-packages (from -r requirements.txt (line 2)) (1.0.2)\n",
            "Requirement already satisfied: numpy in /usr/local/lib/python3.7/dist-packages (from -r requirements.txt (line 3)) (1.21.5)\n",
            "Requirement already satisfied: opencv_python in /usr/local/lib/python3.7/dist-packages (from -r requirements.txt (line 4)) (4.1.2.30)\n",
            "Requirement already satisfied: Pillow in /usr/local/lib/python3.7/dist-packages (from -r requirements.txt (line 5)) (7.1.2)\n",
            "Requirement already satisfied: torch>=1.2.0 in /usr/local/lib/python3.7/dist-packages (from -r requirements.txt (line 6)) (1.10.0+cu111)\n",
            "Requirement already satisfied: torchvision in /usr/local/lib/python3.7/dist-packages (from -r requirements.txt (line 7)) (0.11.1+cu111)\n",
            "Requirement already satisfied: typing-extensions in /usr/local/lib/python3.7/dist-packages (from torch>=1.2.0->-r requirements.txt (line 6)) (3.10.0.2)\n",
            "Requirement already satisfied: joblib>=0.11 in /usr/local/lib/python3.7/dist-packages (from scikit-learn->-r requirements.txt (line 2)) (1.1.0)\n",
            "Requirement already satisfied: threadpoolctl>=2.0.0 in /usr/local/lib/python3.7/dist-packages (from scikit-learn->-r requirements.txt (line 2)) (3.1.0)\n",
            "--2022-03-19 11:02:17--  https://www.dropbox.com/s/2g2jagq2jn1fd0i/blur_jpg_prob0.5.pth?dl=0\n",
            "Resolving www.dropbox.com (www.dropbox.com)... 162.125.65.18, 2620:100:6021:18::a27d:4112\n",
            "Connecting to www.dropbox.com (www.dropbox.com)|162.125.65.18|:443... connected.\n",
            "HTTP request sent, awaiting response... 301 Moved Permanently\n",
            "Location: /s/raw/2g2jagq2jn1fd0i/blur_jpg_prob0.5.pth [following]\n",
            "--2022-03-19 11:02:17--  https://www.dropbox.com/s/raw/2g2jagq2jn1fd0i/blur_jpg_prob0.5.pth\n",
            "Reusing existing connection to www.dropbox.com:443.\n",
            "HTTP request sent, awaiting response... 302 Found\n",
            "Location: https://uc84e2e9659bcacd5500c20222c1.dl.dropboxusercontent.com/cd/0/inline/BhwIMaOf_-KOZ_YLXEqFFOBMbePT1TRpCOqklDTtm2njo66N8m6JD19IEY1py2mJva7cV_5jAeXXS7LNfTwp12MUv6TWqrq63ah_E2dNbGEGAHyedqNwlqO0SFmCV_p7jgJgVvv0xsG9XjxDMVrj3P6P_Rhe7lCtP5Gb__7Zi2a2xg/file# [following]\n",
            "--2022-03-19 11:02:17--  https://uc84e2e9659bcacd5500c20222c1.dl.dropboxusercontent.com/cd/0/inline/BhwIMaOf_-KOZ_YLXEqFFOBMbePT1TRpCOqklDTtm2njo66N8m6JD19IEY1py2mJva7cV_5jAeXXS7LNfTwp12MUv6TWqrq63ah_E2dNbGEGAHyedqNwlqO0SFmCV_p7jgJgVvv0xsG9XjxDMVrj3P6P_Rhe7lCtP5Gb__7Zi2a2xg/file\n",
            "Resolving uc84e2e9659bcacd5500c20222c1.dl.dropboxusercontent.com (uc84e2e9659bcacd5500c20222c1.dl.dropboxusercontent.com)... 162.125.2.15, 2620:100:601a:15::a27d:70f\n",
            "Connecting to uc84e2e9659bcacd5500c20222c1.dl.dropboxusercontent.com (uc84e2e9659bcacd5500c20222c1.dl.dropboxusercontent.com)|162.125.2.15|:443... connected.\n",
            "HTTP request sent, awaiting response... 302 Found\n",
            "Location: /cd/0/inline2/BhxY4x9OWqJe2IFRAyWxeD2oim_vpBmCT_CbhkoW1ARfmsafuRrgPuyqAtV58K6xQTo767z38gObYDZ6ir5qK-e6iQM4_2zejV9hLpw6kpU7y9NtGKwg2LEvHLIA8YsFBYhhS8uzZafH65aF9WSu-uLMCKAw-O3jOuc9dTzlpTDYHBBPS7VfM_YBL9Y9i89C9P8McVw2NpFOZnlU7kNWgww7BUibYqnBcKjnlcrOGXxBK5xwb_FSEQJ2DGjMT7Qtnj6uWMG3z5BAR62MJR3HASpuNxJnzrNswZD3YaTbmMqzvgIgzvf2yb85Xq7QSbFW1uVivhpjW1sdFxgtUGQhQQ0--pwz0ZXY4fxYCMRrHMRMPVqqce_j1nIfeaWz0xCZhncrDhU516ET3rMR3SWu3QVzEGnY-1NWBECDiDbe8RLWwg/file [following]\n",
            "--2022-03-19 11:02:19--  https://uc84e2e9659bcacd5500c20222c1.dl.dropboxusercontent.com/cd/0/inline2/BhxY4x9OWqJe2IFRAyWxeD2oim_vpBmCT_CbhkoW1ARfmsafuRrgPuyqAtV58K6xQTo767z38gObYDZ6ir5qK-e6iQM4_2zejV9hLpw6kpU7y9NtGKwg2LEvHLIA8YsFBYhhS8uzZafH65aF9WSu-uLMCKAw-O3jOuc9dTzlpTDYHBBPS7VfM_YBL9Y9i89C9P8McVw2NpFOZnlU7kNWgww7BUibYqnBcKjnlcrOGXxBK5xwb_FSEQJ2DGjMT7Qtnj6uWMG3z5BAR62MJR3HASpuNxJnzrNswZD3YaTbmMqzvgIgzvf2yb85Xq7QSbFW1uVivhpjW1sdFxgtUGQhQQ0--pwz0ZXY4fxYCMRrHMRMPVqqce_j1nIfeaWz0xCZhncrDhU516ET3rMR3SWu3QVzEGnY-1NWBECDiDbe8RLWwg/file\n",
            "Reusing existing connection to uc84e2e9659bcacd5500c20222c1.dl.dropboxusercontent.com:443.\n",
            "HTTP request sent, awaiting response... 200 OK\n",
            "Length: 282442597 (269M) [application/octet-stream]\n",
            "Saving to: ‘./weights/blur_jpg_prob0.5.pth’\n",
            "\n",
            "./weights/blur_jpg_ 100%[===================>] 269.36M  20.6MB/s    in 14s     \n",
            "\n",
            "2022-03-19 11:02:33 (19.4 MB/s) - ‘./weights/blur_jpg_prob0.5.pth’ saved [282442597/282442597]\n",
            "\n",
            "--2022-03-19 11:02:33--  https://www.dropbox.com/s/h7tkpcgiwuftb6g/blur_jpg_prob0.1.pth?dl=0\n",
            "Resolving www.dropbox.com (www.dropbox.com)... 162.125.65.18, 2620:100:6021:18::a27d:4112\n",
            "Connecting to www.dropbox.com (www.dropbox.com)|162.125.65.18|:443... connected.\n",
            "HTTP request sent, awaiting response... 301 Moved Permanently\n",
            "Location: /s/raw/h7tkpcgiwuftb6g/blur_jpg_prob0.1.pth [following]\n",
            "--2022-03-19 11:02:34--  https://www.dropbox.com/s/raw/h7tkpcgiwuftb6g/blur_jpg_prob0.1.pth\n",
            "Reusing existing connection to www.dropbox.com:443.\n",
            "HTTP request sent, awaiting response... 302 Found\n",
            "Location: https://ucbc4e5309eece57f50d2e6e91a2.dl.dropboxusercontent.com/cd/0/inline/BhyVZvysDyJH7lkn58KVSS12vNdFN4ZmirT6Ui4Jwtgsb3fwTI4RyazHoUzg6dV7ipG005-pCEZUfmKV4nZMg3PmDJd8scNJ1jqXTB_PoCYkFf4qZf6qrqwv1G0lX_Xn7YgGABxBybER0s5VIWZy1pcS-7Qd1zwjUVb2OqMofMEPCg/file# [following]\n",
            "--2022-03-19 11:02:34--  https://ucbc4e5309eece57f50d2e6e91a2.dl.dropboxusercontent.com/cd/0/inline/BhyVZvysDyJH7lkn58KVSS12vNdFN4ZmirT6Ui4Jwtgsb3fwTI4RyazHoUzg6dV7ipG005-pCEZUfmKV4nZMg3PmDJd8scNJ1jqXTB_PoCYkFf4qZf6qrqwv1G0lX_Xn7YgGABxBybER0s5VIWZy1pcS-7Qd1zwjUVb2OqMofMEPCg/file\n",
            "Resolving ucbc4e5309eece57f50d2e6e91a2.dl.dropboxusercontent.com (ucbc4e5309eece57f50d2e6e91a2.dl.dropboxusercontent.com)... 162.125.65.15, 2620:100:6021:15::a27d:410f\n",
            "Connecting to ucbc4e5309eece57f50d2e6e91a2.dl.dropboxusercontent.com (ucbc4e5309eece57f50d2e6e91a2.dl.dropboxusercontent.com)|162.125.65.15|:443... connected.\n",
            "HTTP request sent, awaiting response... 302 Found\n",
            "Location: /cd/0/inline2/BhxgtQCQf8OkzFbEcn1PhzJOS-I0eJA-NG5LC2xX0vC7xQBKost6gANcaiFy0EgRxwqBMpvYcEJSRIfApeC2PLt7gPWxhPIDG4SZLaFUgHCbFj0lS9W7YgDSYl_dFwUvx2iHL589FTGtJUazI-FNnVQSyvtox5CudEd2Yrw7JSQgzm3HALsiBXEfhMzf_FM_pFWuvoCBuwNxWoL5aFCGSYlW_n937WrG0duACcfUYef6ASNXkVp0Naw6qJ1UyZwqGPWsuXZok9POxsrmVGQVzvpWK__j2Y0tora9nOuWEZabgZd52fDFPCI6JrBJxjIS8pIe5aOZT1ydXszQrGMuyxIDxF15Rvnkyfy2kdnCq7_uy6rMqB0IhQ9chgXPpj_FM2ItD-D4MW24Vmliwii9fv2sfQNqVsNCySm17WOCTwXtDA/file [following]\n",
            "--2022-03-19 11:02:35--  https://ucbc4e5309eece57f50d2e6e91a2.dl.dropboxusercontent.com/cd/0/inline2/BhxgtQCQf8OkzFbEcn1PhzJOS-I0eJA-NG5LC2xX0vC7xQBKost6gANcaiFy0EgRxwqBMpvYcEJSRIfApeC2PLt7gPWxhPIDG4SZLaFUgHCbFj0lS9W7YgDSYl_dFwUvx2iHL589FTGtJUazI-FNnVQSyvtox5CudEd2Yrw7JSQgzm3HALsiBXEfhMzf_FM_pFWuvoCBuwNxWoL5aFCGSYlW_n937WrG0duACcfUYef6ASNXkVp0Naw6qJ1UyZwqGPWsuXZok9POxsrmVGQVzvpWK__j2Y0tora9nOuWEZabgZd52fDFPCI6JrBJxjIS8pIe5aOZT1ydXszQrGMuyxIDxF15Rvnkyfy2kdnCq7_uy6rMqB0IhQ9chgXPpj_FM2ItD-D4MW24Vmliwii9fv2sfQNqVsNCySm17WOCTwXtDA/file\n",
            "Reusing existing connection to ucbc4e5309eece57f50d2e6e91a2.dl.dropboxusercontent.com:443.\n",
            "HTTP request sent, awaiting response... 200 OK\n",
            "Length: 282442597 (269M) [application/octet-stream]\n",
            "Saving to: ‘./weights/blur_jpg_prob0.1.pth’\n",
            "\n",
            "./weights/blur_jpg_ 100%[===================>] 269.36M  22.9MB/s    in 12s     \n",
            "\n",
            "2022-03-19 11:02:48 (22.4 MB/s) - ‘./weights/blur_jpg_prob0.1.pth’ saved [282442597/282442597]\n",
            "\n",
            "/content\n"
          ]
        }
      ]
    },
    {
      "cell_type": "code",
      "source": [
        "!git clone https://github.com/lloyd31/gan-analysis-db.git"
      ],
      "metadata": {
        "colab": {
          "base_uri": "https://localhost:8080/"
        },
        "id": "EdDnL_-U9wgt",
        "outputId": "834e5e9a-07e4-45b8-abbf-12a5041e5f41"
      },
      "execution_count": 44,
      "outputs": [
        {
          "output_type": "stream",
          "name": "stdout",
          "text": [
            "fatal: destination path 'gan-analysis-db' already exists and is not an empty directory.\n"
          ]
        }
      ]
    },
    {
      "cell_type": "code",
      "source": [
        "!ls -l"
      ],
      "metadata": {
        "colab": {
          "base_uri": "https://localhost:8080/"
        },
        "id": "auAyeW2w94ly",
        "outputId": "3417de28-de95-474d-c248-7fce9f0a02c5"
      },
      "execution_count": 45,
      "outputs": [
        {
          "output_type": "stream",
          "name": "stdout",
          "text": [
            "total 12\n",
            "drwxr-xr-x 11 root root 4096 Mar 19 11:02 CNNDetection\n",
            "drwxr-xr-x  9 root root 4096 Mar 19 07:52 gan-analysis-db\n",
            "drwxr-xr-x  1 root root 4096 Mar  9 14:48 sample_data\n"
          ]
        }
      ]
    },
    {
      "cell_type": "markdown",
      "source": [
        "**Phase I: Overall real + Fake set up**"
      ],
      "metadata": {
        "id": "oRwBornlfiXs"
      }
    },
    {
      "cell_type": "code",
      "source": [
        "import os\n",
        "import shutil"
      ],
      "metadata": {
        "id": "HN1l5M-bi0ld"
      },
      "execution_count": 46,
      "outputs": []
    },
    {
      "cell_type": "code",
      "source": [
        "mysys = {\n",
        "    'testDir':'',\n",
        "    'realPathSuffix':'',\n",
        "    'fakePathSuffix':'',\n",
        "    \n",
        "    'cnnPeopleRealPath':'/content/gan-analysis-db/cnnTest/person/0_real/',\n",
        "    'cnnPeopleFakePath':'/content/gan-analysis-db/cnnTest/person/1_fake/',\n",
        "\n",
        "    'cnnCarRealPath':'/content/gan-analysis-db/cnnTest/car/0_real/',\n",
        "    'cnnCarFakePath':'/content/gan-analysis-db/cnnTest/car/1_fake/',\n",
        "\n",
        "    'cnnDogRealPath':'/content/gan-analysis-db/cnnTest/dog/0_real/',\n",
        "    'cnnDogFakePath':'/content/gan-analysis-db/cnnTest/dog/1_fake/',\n",
        "\n",
        "    'ganPath_100F_fake':'/content/gan-analysis-db/ifakePath/iFakeFaceDB/100F/',\n",
        "    'ganPath_TPDNE_fake':'/content/gan-analysis-db/ifakePath/iFakeFaceDB/TPDNE/',\n",
        "\n",
        "    'ganPath_100F_real':'',\n",
        "\n",
        "    'pgGANPath_fake':'/content/gan-analysis-db/pggan_v2/test/',\n",
        "    'styleGANPath_fake':'/content/gan-analysis-db/stylegan_celeba/test/',\n",
        "    'starGANPath_fake':'/content/gan-analysis-db/stargan/validation/',\n",
        "\n",
        "    'ffhqPath_real':'/content/gan-analysis-db/ffhqTest/ffhq/test/'\n",
        "}"
      ],
      "metadata": {
        "id": "t9iLvSLGmWVN"
      },
      "execution_count": 47,
      "outputs": []
    },
    {
      "cell_type": "code",
      "source": [
        "def makeTestFolder():\n",
        "  os.makedirs(os.path.join(mysys['testDir'], mysys['realPathSuffix']))\n",
        "  print('REAL PATH: +1')\n",
        "  os.makedirs(os.path.join(mysys['testDir'],mysys['fakePathSuffix']))\n",
        "  print('FAKE PATH: +1')\n"
      ],
      "metadata": {
        "id": "sHS6TaOWhuka"
      },
      "execution_count": 48,
      "outputs": []
    },
    {
      "cell_type": "code",
      "source": [
        "def cleanUpTestFolder():\n",
        "  if os.path.isdir(mysys['testDir']):\n",
        "    shutil.rmtree(mysys['testDir'])\n",
        "    print('CLEANUP OF:'+mysys['testDir']+': +1')"
      ],
      "metadata": {
        "id": "1oJipam7iAX9"
      },
      "execution_count": 49,
      "outputs": []
    },
    {
      "cell_type": "code",
      "source": [
        "def setUpCNNApp():\n",
        "  mysys['testDir'] = '/content/CNNDetection/testDir'\n",
        "  mysys['realPathSuffix'] = '0_real'\n",
        "  mysys['fakePathSuffix'] = '1_fake'\n",
        "  makeTestFolder()"
      ],
      "metadata": {
        "id": "i-nVJACWf9vF"
      },
      "execution_count": 50,
      "outputs": []
    },
    {
      "cell_type": "code",
      "source": [
        "def copyTree(srcFolder, destFolder,limit=-1,pfx=''):\n",
        "  if(os.path.exists(destFolder) == False):\n",
        "    os.makedirs(destFolder)\n",
        "  cnt =0\n",
        "  \n",
        "  for file in os.listdir(srcFolder):\n",
        "    dfile=file\n",
        "\n",
        "    if(os.path.exists(os.path.join(destFolder,file))):\n",
        "      dfile=pfx+file\n",
        "\n",
        "    shutil.copy2(os.path.join(srcFolder,file), os.path.join(destFolder,dfile))\n",
        "    cnt+=1;\n",
        "    if limit != -1 and limit < cnt:\n",
        "      break\n",
        "\n",
        "  print('files copied: ',srcFolder,' --> ',destFolder,': ',cnt)"
      ],
      "metadata": {
        "id": "ZG-PRXEU--nQ"
      },
      "execution_count": 51,
      "outputs": []
    },
    {
      "cell_type": "code",
      "source": [
        "##Phase I aims at including all the images available in the dataset and running a test against them\n",
        "## Maintaining a ratio of real to fake as 0.24 as described in Dang et. al\n",
        "def setUpPhase_1():\n",
        "  if os.path.isdir(mysys['testDir']):\n",
        "    cleanUpTestFolder()\n",
        "  setUpCNNApp()\n",
        "\n",
        "  #copy real to testDir/real\n",
        "  copyTree(srcFolder= mysys['cnnCarRealPath'], destFolder=os.path.join(mysys['testDir'],mysys['realPathSuffix']), pfx='d',limit=200)\n",
        "  copyTree(srcFolder= mysys['cnnDogRealPath'], destFolder=os.path.join(mysys['testDir'],mysys['realPathSuffix']), pfx='d',limit=200)\n",
        "  copyTree(srcFolder= mysys['cnnPeopleRealPath'], destFolder=os.path.join(mysys['testDir'],mysys['realPathSuffix']), pfx='p', limit=200)\n",
        "  copyTree(srcFolder= mysys['ffhqPath_real'], destFolder=os.path.join(mysys['testDir'],mysys['realPathSuffix']))\n",
        "\n",
        "  #copy fake to testDIR/fake\n",
        "  copyTree(srcFolder= mysys['cnnCarFakePath'], destFolder=os.path.join(mysys['testDir'],mysys['fakePathSuffix']),pfx='c')\n",
        "  copyTree(srcFolder= mysys['cnnDogFakePath'], destFolder=os.path.join(mysys['testDir'],mysys['fakePathSuffix']),pfx='d')\n",
        "  copyTree(srcFolder= mysys['cnnPeopleFakePath'], destFolder=os.path.join(mysys['testDir'],mysys['fakePathSuffix']),pfx='p')\n",
        "\n",
        "  copyTree(srcFolder= mysys['ganPath_100F_fake'], destFolder=os.path.join(mysys['testDir'],mysys['fakePathSuffix']))\n",
        "  copyTree(srcFolder= mysys['ganPath_TPDNE_fake'], destFolder=os.path.join(mysys['testDir'],mysys['fakePathSuffix']))\n",
        "  \n",
        "  copyTree(srcFolder= mysys['pgGANPath_fake'], destFolder=os.path.join(mysys['testDir'],mysys['fakePathSuffix']))\n",
        "  copyTree(srcFolder= mysys['styleGANPath_fake'], destFolder=os.path.join(mysys['testDir'],mysys['fakePathSuffix']))\n",
        "  copyTree(srcFolder= mysys['starGANPath_fake'], destFolder=os.path.join(mysys['testDir'],mysys['fakePathSuffix']))\n",
        "\n",
        "  fakeCount = len(os.listdir(os.path.join(mysys['testDir'],mysys['fakePathSuffix'])))\n",
        "  realCount = len(os.listdir(os.path.join(mysys['testDir'],mysys['realPathSuffix'])))\n",
        "  print('Fakes count: ',fakeCount)\n",
        "  print('Real count: ',realCount)\n",
        "  print('Real to Fake Ratio: {:.3f}'.format(realCount/fakeCount))"
      ],
      "metadata": {
        "id": "8Ku-GamupRpS"
      },
      "execution_count": 52,
      "outputs": []
    },
    {
      "cell_type": "code",
      "source": [
        "%cd /content/CNNDetection"
      ],
      "metadata": {
        "id": "1Xwf-2QVOsMO",
        "outputId": "cb6a5b8f-7208-4a3f-b777-1fcfbbc70daf",
        "colab": {
          "base_uri": "https://localhost:8080/"
        }
      },
      "execution_count": 56,
      "outputs": [
        {
          "output_type": "stream",
          "name": "stdout",
          "text": [
            "/content/CNNDetection\n"
          ]
        }
      ]
    },
    {
      "cell_type": "code",
      "source": [
        "!git pull origin master"
      ],
      "metadata": {
        "id": "8qSnnyKWM8ms",
        "outputId": "3c4911de-f419-4b0b-9f0d-f916794dbaef",
        "colab": {
          "base_uri": "https://localhost:8080/"
        }
      },
      "execution_count": 57,
      "outputs": [
        {
          "output_type": "stream",
          "name": "stdout",
          "text": [
            "From https://github.com/lloyd31/CNNDetection\n",
            " * branch            master     -> FETCH_HEAD\n",
            "Already up to date.\n"
          ]
        }
      ]
    },
    {
      "cell_type": "code",
      "source": [
        "%cd ../"
      ],
      "metadata": {
        "id": "3MIgGaIQ2gNk",
        "outputId": "10ee458f-ee23-4752-ca5a-c00b0d4e1245",
        "colab": {
          "base_uri": "https://localhost:8080/"
        }
      },
      "execution_count": 58,
      "outputs": [
        {
          "output_type": "stream",
          "name": "stdout",
          "text": [
            "/content\n"
          ]
        }
      ]
    },
    {
      "cell_type": "code",
      "source": [
        "setUpPhase_1()"
      ],
      "metadata": {
        "id": "yHtWAzerM0WW",
        "outputId": "934d3b84-b09e-482c-8219-20b0b0715ab5",
        "colab": {
          "base_uri": "https://localhost:8080/"
        }
      },
      "execution_count": 59,
      "outputs": [
        {
          "output_type": "stream",
          "name": "stdout",
          "text": [
            "CLEANUP OF:/content/CNNDetection/testDir: +1\n",
            "REAL PATH: +1\n",
            "FAKE PATH: +1\n",
            "files copied:  /content/gan-analysis-db/cnnTest/car/0_real/  -->  /content/CNNDetection/testDir/0_real :  200\n",
            "files copied:  /content/gan-analysis-db/cnnTest/dog/0_real/  -->  /content/CNNDetection/testDir/0_real :  200\n",
            "files copied:  /content/gan-analysis-db/cnnTest/person/0_real/  -->  /content/CNNDetection/testDir/0_real :  200\n",
            "files copied:  /content/gan-analysis-db/ffhqTest/ffhq/test/  -->  /content/CNNDetection/testDir/0_real :  1000\n",
            "files copied:  /content/gan-analysis-db/cnnTest/car/1_fake/  -->  /content/CNNDetection/testDir/1_fake :  200\n",
            "files copied:  /content/gan-analysis-db/cnnTest/dog/1_fake/  -->  /content/CNNDetection/testDir/1_fake :  200\n",
            "files copied:  /content/gan-analysis-db/cnnTest/person/1_fake/  -->  /content/CNNDetection/testDir/1_fake :  200\n",
            "files copied:  /content/gan-analysis-db/ifakePath/iFakeFaceDB/100F/  -->  /content/CNNDetection/testDir/1_fake :  2000\n",
            "files copied:  /content/gan-analysis-db/ifakePath/iFakeFaceDB/TPDNE/  -->  /content/CNNDetection/testDir/1_fake :  1999\n",
            "files copied:  /content/gan-analysis-db/pggan_v2/test/  -->  /content/CNNDetection/testDir/1_fake :  499\n",
            "files copied:  /content/gan-analysis-db/stylegan_celeba/test/  -->  /content/CNNDetection/testDir/1_fake :  499\n",
            "files copied:  /content/gan-analysis-db/stargan/validation/  -->  /content/CNNDetection/testDir/1_fake :  999\n",
            "Fakes count:  6596\n",
            "Real count:  1600\n",
            "Real to Fake Ratio: 0.243\n"
          ]
        }
      ]
    },
    {
      "cell_type": "code",
      "source": [
        "##Testing with model 1: 0.5% JPEG Compression\n",
        "%cd /content/CNNDetection/\n",
        "%run demo_dir.py -d testDir -m weights/blur_jpg_prob0.5.pth"
      ],
      "metadata": {
        "id": "MM6nmufDNL_5",
        "outputId": "56f76fa9-694f-439e-97f2-2176b5ad68d5",
        "colab": {
          "base_uri": "https://localhost:8080/",
          "height": 558
        }
      },
      "execution_count": 61,
      "outputs": [
        {
          "output_type": "stream",
          "name": "stdout",
          "text": [
            "/content/CNNDetection\n"
          ]
        },
        {
          "output_type": "stream",
          "name": "stderr",
          "text": [
            "/usr/local/lib/python3.7/dist-packages/torch/utils/data/dataloader.py:481: UserWarning: This DataLoader will create 4 worker processes in total. Our suggested max number of worker in current system is 2, which is smaller than what this DataLoader is going to create. Please be aware that excessive worker creation might get DataLoader running slow or even freeze, lower the worker number to avoid potential slowness/freeze if necessary.\n",
            "  cpuset_checked))\n"
          ]
        },
        {
          "output_type": "stream",
          "name": "stdout",
          "text": [
            "Not cropping\n",
            "Loading [1] datasets\n"
          ]
        },
        {
          "output_type": "stream",
          "name": "stderr",
          "text": [
            "100%|██████████| 257/257 [00:29<00:00,  8.83it/s]\n",
            "WARNING:matplotlib.legend:No handles with labels found to put in legend.\n"
          ]
        },
        {
          "output_type": "stream",
          "name": "stdout",
          "text": [
            "Average sizes: [224.00+/-0.00] x [224.00+/-0.00] = [0.05+/-0.00 Mpix]\n",
            "Num reals: 1600, Num fakes: 6596\n",
            "AP: 95.62, Acc: 36.60, Acc (real): 99.88, Acc (fake): 21.26, AUC: 84.66\n",
            "------CONFUSION MATRIX------\n",
            "[[1598    2]\n",
            " [5194 1402]]\n",
            "----------------------------\n"
          ]
        },
        {
          "output_type": "display_data",
          "data": {
            "text/plain": [
              "<Figure size 432x288 with 1 Axes>"
            ],
            "image/png": "[encoded data removed]"
          },
          "metadata": {
            "needs_background": "light"
          }
        }
      ]
    },
    {
      "cell_type": "code",
      "source": [
        "##Based on the Confusion Matrix Recall calculated is\n",
        "print('Sensitivity',(1402/(5194+1402)))\n",
        "\n",
        "##This is similar to the fake accuracy calculated by the model"
      ],
      "metadata": {
        "id": "6Af0gzzkjvL7",
        "outputId": "ba88d27d-6366-4035-ce21-c847265e1866",
        "colab": {
          "base_uri": "https://localhost:8080/"
        }
      },
      "execution_count": 62,
      "outputs": [
        {
          "output_type": "stream",
          "name": "stdout",
          "text": [
            "Sensitivity 0.21255306246209824\n"
          ]
        }
      ]
    },
    {
      "cell_type": "code",
      "source": [
        "##Testing with model 2: 0.1% JPEG Compression\n",
        "%run demo_dir.py -d testDir -m weights/blur_jpg_prob0.1.pth"
      ],
      "metadata": {
        "id": "gWrNiU4gZ-Im",
        "outputId": "cb022955-ca83-4c00-ef50-f562876692c1",
        "colab": {
          "base_uri": "https://localhost:8080/",
          "height": 541
        }
      },
      "execution_count": 63,
      "outputs": [
        {
          "output_type": "stream",
          "name": "stderr",
          "text": [
            "/usr/local/lib/python3.7/dist-packages/torch/utils/data/dataloader.py:481: UserWarning: This DataLoader will create 4 worker processes in total. Our suggested max number of worker in current system is 2, which is smaller than what this DataLoader is going to create. Please be aware that excessive worker creation might get DataLoader running slow or even freeze, lower the worker number to avoid potential slowness/freeze if necessary.\n",
            "  cpuset_checked))\n"
          ]
        },
        {
          "output_type": "stream",
          "name": "stdout",
          "text": [
            "Not cropping\n",
            "Loading [1] datasets\n"
          ]
        },
        {
          "output_type": "stream",
          "name": "stderr",
          "text": [
            "100%|██████████| 257/257 [00:29<00:00,  8.82it/s]\n",
            "WARNING:matplotlib.legend:No handles with labels found to put in legend.\n"
          ]
        },
        {
          "output_type": "stream",
          "name": "stdout",
          "text": [
            "Average sizes: [224.00+/-0.00] x [224.00+/-0.00] = [0.05+/-0.00 Mpix]\n",
            "Num reals: 1600, Num fakes: 6596\n",
            "AP: 92.51, Acc: 41.70, Acc (real): 91.00, Acc (fake): 29.75, AUC: 77.92\n",
            "------CONFUSION MATRIX------\n",
            "[[1456  144]\n",
            " [4634 1962]]\n",
            "----------------------------\n"
          ]
        },
        {
          "output_type": "display_data",
          "data": {
            "text/plain": [
              "<Figure size 432x288 with 1 Axes>"
            ],
            "image/png": "[encoded data removed]"
          },
          "metadata": {
            "needs_background": "light"
          }
        }
      ]
    },
    {
      "cell_type": "code",
      "source": [
        "##Sensitivity##\n",
        "print('Sensitivity: ', (1962/(1962+4634)))"
      ],
      "metadata": {
        "id": "ZAhXhIDG3bV5",
        "outputId": "96cb2149-260b-499c-94b8-28fdfd756b53",
        "colab": {
          "base_uri": "https://localhost:8080/"
        }
      },
      "execution_count": 65,
      "outputs": [
        {
          "output_type": "stream",
          "name": "stdout",
          "text": [
            "Sensitivity:  0.2974530018192844\n"
          ]
        }
      ]
    },
    {
      "cell_type": "code",
      "source": [
        "##Phase I aims at including the images available in iFakeFaceDB dataset and running a test against them\n",
        "##The dataset has no real images\n",
        "def setUpPhase_2():\n",
        "  \n",
        "  if os.path.isdir(mysys['testDir']):\n",
        "    cleanUpTestFolder()\n",
        "  setUpCNNApp()\n",
        "\n",
        "  copyTree(srcFolder= mysys['ganPath_100F_fake'], destFolder=os.path.join(mysys['testDir'],mysys['fakePathSuffix']))\n",
        "  copyTree(srcFolder= mysys['ganPath_TPDNE_fake'], destFolder=os.path.join(mysys['testDir'],mysys['fakePathSuffix']))\n",
        "\n",
        "  copyTree(srcFolder= mysys['ffhqPath_real'], destFolder=os.path.join(mysys['testDir'],mysys['realPathSuffix']),limit=980)\n",
        "\n",
        "  fakeCount = len(os.listdir(os.path.join(mysys['testDir'],mysys['fakePathSuffix'])))\n",
        "  realCount = len(os.listdir(os.path.join(mysys['testDir'],mysys['realPathSuffix'])))\n",
        "  print('Fakes count: ',fakeCount)\n",
        "  print('Real count: ',realCount)\n",
        "  print('Real to Fake Ratio: {:.3f}'.format(realCount/fakeCount))"
      ],
      "metadata": {
        "id": "nv_r1ifcCr7i"
      },
      "execution_count": 70,
      "outputs": []
    },
    {
      "cell_type": "code",
      "source": [
        "setUpPhase_2()"
      ],
      "metadata": {
        "id": "g9VfMbUyce9Z",
        "outputId": "2b0c8f1f-7f40-4e3e-b05f-559f17ed9b06",
        "colab": {
          "base_uri": "https://localhost:8080/"
        }
      },
      "execution_count": 72,
      "outputs": [
        {
          "output_type": "stream",
          "name": "stdout",
          "text": [
            "CLEANUP OF:/content/CNNDetection/testDir: +1\n",
            "REAL PATH: +1\n",
            "FAKE PATH: +1\n",
            "files copied:  /content/gan-analysis-db/ifakePath/iFakeFaceDB/100F/  -->  /content/CNNDetection/testDir/1_fake :  2000\n",
            "files copied:  /content/gan-analysis-db/ifakePath/iFakeFaceDB/TPDNE/  -->  /content/CNNDetection/testDir/1_fake :  1999\n",
            "files copied:  /content/gan-analysis-db/ffhqTest/ffhq/test/  -->  /content/CNNDetection/testDir/0_real :  981\n",
            "Fakes count:  3999\n",
            "Real count:  981\n",
            "Real to Fake Ratio: 0.245\n"
          ]
        }
      ]
    },
    {
      "cell_type": "code",
      "source": [
        "##Testing with model 1: 0.5% JPEG Compression\n",
        "%cd /content/CNNDetection\n",
        "%run demo_dir.py -d testDir -m weights/blur_jpg_prob0.5.pth"
      ],
      "metadata": {
        "id": "IMscgiho-Sfc",
        "outputId": "7e75d940-b92f-4a89-f589-e2042129bcdd",
        "colab": {
          "base_uri": "https://localhost:8080/",
          "height": 558
        }
      },
      "execution_count": 74,
      "outputs": [
        {
          "output_type": "stream",
          "name": "stdout",
          "text": [
            "/content/CNNDetection\n"
          ]
        },
        {
          "output_type": "stream",
          "name": "stderr",
          "text": [
            "/usr/local/lib/python3.7/dist-packages/torch/utils/data/dataloader.py:481: UserWarning: This DataLoader will create 4 worker processes in total. Our suggested max number of worker in current system is 2, which is smaller than what this DataLoader is going to create. Please be aware that excessive worker creation might get DataLoader running slow or even freeze, lower the worker number to avoid potential slowness/freeze if necessary.\n",
            "  cpuset_checked))\n"
          ]
        },
        {
          "output_type": "stream",
          "name": "stdout",
          "text": [
            "Not cropping\n",
            "Loading [1] datasets\n"
          ]
        },
        {
          "output_type": "stream",
          "name": "stderr",
          "text": [
            "100%|██████████| 156/156 [00:14<00:00, 10.68it/s]\n",
            "WARNING:matplotlib.legend:No handles with labels found to put in legend.\n"
          ]
        },
        {
          "output_type": "stream",
          "name": "stdout",
          "text": [
            "Average sizes: [224.00+/-0.00] x [224.00+/-0.00] = [0.05+/-0.00 Mpix]\n",
            "Num reals: 981, Num fakes: 3999\n",
            "AP: 88.15, Acc: 19.96, Acc (real): 99.80, Acc (fake): 0.38, AUC: 69.04\n",
            "------CONFUSION MATRIX------\n",
            "[[ 979    2]\n",
            " [3984   15]]\n",
            "----------------------------\n"
          ]
        },
        {
          "output_type": "display_data",
          "data": {
            "text/plain": [
              "<Figure size 432x288 with 1 Axes>"
            ],
            "image/png": "[encoded data removed]"
          },
          "metadata": {
            "needs_background": "light"
          }
        }
      ]
    },
    {
      "cell_type": "code",
      "source": [
        "%run demo_dir.py -d testDir -m weights/blur_jpg_prob0.1.pth"
      ],
      "metadata": {
        "colab": {
          "base_uri": "https://localhost:8080/",
          "height": 541
        },
        "id": "lrfayZcW-30G",
        "outputId": "da9183d1-3ccd-4cd6-bd8c-f694676b383e"
      },
      "execution_count": 75,
      "outputs": [
        {
          "output_type": "stream",
          "name": "stderr",
          "text": [
            "/usr/local/lib/python3.7/dist-packages/torch/utils/data/dataloader.py:481: UserWarning: This DataLoader will create 4 worker processes in total. Our suggested max number of worker in current system is 2, which is smaller than what this DataLoader is going to create. Please be aware that excessive worker creation might get DataLoader running slow or even freeze, lower the worker number to avoid potential slowness/freeze if necessary.\n",
            "  cpuset_checked))\n"
          ]
        },
        {
          "output_type": "stream",
          "name": "stdout",
          "text": [
            "Not cropping\n",
            "Loading [1] datasets\n"
          ]
        },
        {
          "output_type": "stream",
          "name": "stderr",
          "text": [
            "100%|██████████| 156/156 [00:14<00:00, 10.64it/s]\n",
            "WARNING:matplotlib.legend:No handles with labels found to put in legend.\n"
          ]
        },
        {
          "output_type": "stream",
          "name": "stdout",
          "text": [
            "Average sizes: [224.00+/-0.00] x [224.00+/-0.00] = [0.05+/-0.00 Mpix]\n",
            "Num reals: 981, Num fakes: 3999\n",
            "AP: 77.73, Acc: 22.45, Acc (real): 85.73, Acc (fake): 6.93, AUC: 51.73\n",
            "------CONFUSION MATRIX------\n",
            "[[ 841  140]\n",
            " [3722  277]]\n",
            "----------------------------\n"
          ]
        },
        {
          "output_type": "display_data",
          "data": {
            "text/plain": [
              "<Figure size 432x288 with 1 Axes>"
            ],
            "image/png": "[encoded data removed]"
          },
          "metadata": {
            "needs_background": "light"
          }
        }
      ]
    },
    {
      "cell_type": "markdown",
      "source": [
        "Phase 3: Running the build over the DFFD dataset"
      ],
      "metadata": {
        "id": "2F355Pqt6VI4"
      }
    },
    {
      "cell_type": "code",
      "source": [
        "def setUpPhase_3():\n",
        "  if os.path.isdir(mysys['testDir']):\n",
        "    cleanUpTestFolder()\n",
        "  setUpCNNApp()\n",
        "\n",
        "  #copy real to testDir/real\n",
        "  \n",
        "  copyTree(srcFolder= mysys['ffhqPath_real'], destFolder=os.path.join(mysys['testDir'],mysys['realPathSuffix']),limit=480)\n",
        "\n",
        "  #copy fake to testDIR/fake\n",
        "  copyTree(srcFolder= mysys['pgGANPath_fake'], destFolder=os.path.join(mysys['testDir'],mysys['fakePathSuffix']))\n",
        "  copyTree(srcFolder= mysys['starGANPath_fake'], destFolder=os.path.join(mysys['testDir'],mysys['fakePathSuffix']))\n",
        "  copyTree(srcFolder= mysys['styleGANPath_fake'], destFolder=os.path.join(mysys['testDir'],mysys['fakePathSuffix']))\n",
        "  \n",
        "  fakeCount = len(os.listdir(os.path.join(mysys['testDir'],mysys['fakePathSuffix'])))\n",
        "  realCount = len(os.listdir(os.path.join(mysys['testDir'],mysys['realPathSuffix'])))\n",
        "  print('Fakes count: ',fakeCount)\n",
        "  print('Real count: ',realCount)\n",
        "  print('Real to Fake Ratio: {:.3f}'.format(realCount/fakeCount))"
      ],
      "metadata": {
        "id": "dpZpdEr06QCm"
      },
      "execution_count": 82,
      "outputs": []
    },
    {
      "cell_type": "code",
      "source": [
        "setUpPhase_3()"
      ],
      "metadata": {
        "id": "vvAuU4j77nna",
        "outputId": "facf1dc8-3df3-41d6-d05f-c56168828f58",
        "colab": {
          "base_uri": "https://localhost:8080/"
        }
      },
      "execution_count": 83,
      "outputs": [
        {
          "output_type": "stream",
          "name": "stdout",
          "text": [
            "CLEANUP OF:/content/CNNDetection/testDir: +1\n",
            "REAL PATH: +1\n",
            "FAKE PATH: +1\n",
            "files copied:  /content/gan-analysis-db/ffhqTest/ffhq/test/  -->  /content/CNNDetection/testDir/0_real :  481\n",
            "files copied:  /content/gan-analysis-db/pggan_v2/test/  -->  /content/CNNDetection/testDir/1_fake :  499\n",
            "files copied:  /content/gan-analysis-db/stargan/validation/  -->  /content/CNNDetection/testDir/1_fake :  999\n",
            "files copied:  /content/gan-analysis-db/stylegan_celeba/test/  -->  /content/CNNDetection/testDir/1_fake :  499\n",
            "Fakes count:  1997\n",
            "Real count:  481\n",
            "Real to Fake Ratio: 0.241\n"
          ]
        }
      ]
    },
    {
      "cell_type": "code",
      "source": [
        "%cd /content/CNNDetection\n",
        "%run demo_dir.py -d testDir -m weights/blur_jpg_prob0.5.pth"
      ],
      "metadata": {
        "id": "Y0gyCWJK7_4f",
        "outputId": "8acbabe8-522a-4a8f-931a-e7c706bcbb55",
        "colab": {
          "base_uri": "https://localhost:8080/",
          "height": 558
        }
      },
      "execution_count": 84,
      "outputs": [
        {
          "output_type": "stream",
          "name": "stdout",
          "text": [
            "/content/CNNDetection\n"
          ]
        },
        {
          "output_type": "stream",
          "name": "stderr",
          "text": [
            "/usr/local/lib/python3.7/dist-packages/torch/utils/data/dataloader.py:481: UserWarning: This DataLoader will create 4 worker processes in total. Our suggested max number of worker in current system is 2, which is smaller than what this DataLoader is going to create. Please be aware that excessive worker creation might get DataLoader running slow or even freeze, lower the worker number to avoid potential slowness/freeze if necessary.\n",
            "  cpuset_checked))\n"
          ]
        },
        {
          "output_type": "stream",
          "name": "stdout",
          "text": [
            "Not cropping\n",
            "Loading [1] datasets\n"
          ]
        },
        {
          "output_type": "stream",
          "name": "stderr",
          "text": [
            "100%|██████████| 78/78 [00:12<00:00,  6.02it/s]\n",
            "WARNING:matplotlib.legend:No handles with labels found to put in legend.\n"
          ]
        },
        {
          "output_type": "stream",
          "name": "stdout",
          "text": [
            "Average sizes: [224.00+/-0.00] x [224.00+/-0.00] = [0.05+/-0.00 Mpix]\n",
            "Num reals: 481, Num fakes: 1997\n",
            "AP: 98.95, Acc: 51.13, Acc (real): 99.79, Acc (fake): 39.41, AUC: 95.75\n",
            "------CONFUSION MATRIX------\n",
            "[[ 480    1]\n",
            " [1210  787]]\n",
            "----------------------------\n"
          ]
        },
        {
          "output_type": "display_data",
          "data": {
            "text/plain": [
              "<Figure size 432x288 with 1 Axes>"
            ],
            "image/png": "[encoded data removed]"
          },
          "metadata": {
            "needs_background": "light"
          }
        }
      ]
    },
    {
      "cell_type": "code",
      "source": [
        "print('Sensitivity: ',(787/(787+1210)))"
      ],
      "metadata": {
        "id": "SLqxb8xZ_Z-m",
        "outputId": "acf77b42-d169-42e8-d5dc-c4d8d8f41b09",
        "colab": {
          "base_uri": "https://localhost:8080/"
        }
      },
      "execution_count": 88,
      "outputs": [
        {
          "output_type": "stream",
          "name": "stdout",
          "text": [
            "Sensitivity:  0.3940911367050576\n"
          ]
        }
      ]
    },
    {
      "cell_type": "code",
      "source": [
        "%run demo_dir.py -d testDir -m weights/blur_jpg_prob0.1.pth"
      ],
      "metadata": {
        "id": "6vO6ztdG8UBq",
        "outputId": "3991ce39-2677-4365-8746-d93f37639a41",
        "colab": {
          "base_uri": "https://localhost:8080/",
          "height": 541
        }
      },
      "execution_count": 86,
      "outputs": [
        {
          "output_type": "stream",
          "name": "stderr",
          "text": [
            "/usr/local/lib/python3.7/dist-packages/torch/utils/data/dataloader.py:481: UserWarning: This DataLoader will create 4 worker processes in total. Our suggested max number of worker in current system is 2, which is smaller than what this DataLoader is going to create. Please be aware that excessive worker creation might get DataLoader running slow or even freeze, lower the worker number to avoid potential slowness/freeze if necessary.\n",
            "  cpuset_checked))\n"
          ]
        },
        {
          "output_type": "stream",
          "name": "stdout",
          "text": [
            "Not cropping\n",
            "Loading [1] datasets\n"
          ]
        },
        {
          "output_type": "stream",
          "name": "stderr",
          "text": [
            "100%|██████████| 78/78 [00:12<00:00,  6.10it/s]\n",
            "WARNING:matplotlib.legend:No handles with labels found to put in legend.\n"
          ]
        },
        {
          "output_type": "stream",
          "name": "stdout",
          "text": [
            "Average sizes: [224.00+/-0.00] x [224.00+/-0.00] = [0.05+/-0.00 Mpix]\n",
            "Num reals: 481, Num fakes: 1997\n",
            "AP: 94.99, Acc: 60.69, Acc (real): 87.11, Acc (fake): 54.33, AUC: 82.41\n",
            "------CONFUSION MATRIX------\n",
            "[[ 419   62]\n",
            " [ 912 1085]]\n",
            "----------------------------\n"
          ]
        },
        {
          "output_type": "display_data",
          "data": {
            "text/plain": [
              "<Figure size 432x288 with 1 Axes>"
            ],
            "image/png": "[encoded data removed]"
          },
          "metadata": {
            "needs_background": "light"
          }
        }
      ]
    },
    {
      "cell_type": "code",
      "source": [
        "print('Sensitivty: ',(1085/(1085+912)))"
      ],
      "metadata": {
        "id": "jwChChCl_Cy_",
        "outputId": "818883db-daca-456e-ac44-d5e997f5b71e",
        "colab": {
          "base_uri": "https://localhost:8080/"
        }
      },
      "execution_count": 87,
      "outputs": [
        {
          "output_type": "stream",
          "name": "stdout",
          "text": [
            "Sensitivty:  0.543314972458688\n"
          ]
        }
      ]
    }
  ]
}